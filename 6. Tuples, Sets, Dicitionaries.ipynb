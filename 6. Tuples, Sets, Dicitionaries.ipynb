{
 "cells": [
  {
   "cell_type": "markdown",
   "metadata": {},
   "source": [
    "# Tuples, Sets and Dictionaries\n",
    "In this last section we will cover three major data types\n",
    "### Tuples\n",
    "This is probably cringeworthy (by pythonistas) but tuples can be thought of as immutable (cannot be modified) lists. Once you initialize a tuple it is frozen forever until deletion. Tuples are declared with a sequence of objects wrapped in parentheses."
   ]
  },
  {
   "cell_type": "code",
   "execution_count": 1,
   "metadata": {
    "collapsed": false
   },
   "outputs": [
    {
     "data": {
      "text/plain": [
       "tuple"
      ]
     },
     "execution_count": 1,
     "metadata": {},
     "output_type": "execute_result"
    }
   ],
   "source": [
    "### Declare a tuple and insert many different types into it\n",
    "a = (8,6,8,'asfd', max)\n",
    "# an empty tuple must be declared using the keyword tuple\n",
    "b = tuple()\n",
    "# a single element tuple must have a comma after its only element\n",
    "c = (8,)\n",
    "type(c)"
   ]
  },
  {
   "cell_type": "markdown",
   "metadata": {},
   "source": [
    "### What methods do tuples and lists have in common?\n",
    "Since tuples and lists are so similar, it'd be nice to know which methods they have in common and which ones are different. An elegant solution to this is provided with python sets. Sets are unordered sequences of items that only appear once. You cannot have duplicates in sets as opposed to lists or tuples which can contain any number of items repeated. Python sets support all the functionality that normal mathematical sets have - intersection, union, difference, etc..."
   ]
  },
  {
   "cell_type": "code",
   "execution_count": 2,
   "metadata": {
    "collapsed": true
   },
   "outputs": [],
   "source": [
    "# Store all methods to a set\n",
    "some_list = []\n",
    "some_tuple = tuple()\n",
    "list_methods_set = set(dir(some_list))\n",
    "tuple_methods_set = set(dir(some_tuple))"
   ]
  },
  {
   "cell_type": "code",
   "execution_count": 3,
   "metadata": {
    "collapsed": false
   },
   "outputs": [
    {
     "name": "stdout",
     "output_type": "stream",
     "text": [
      "{'__le__', '__reduce_ex__', '__repr__', '__len__', '__mul__', 'index', '__iter__', '__rmul__', '__add__', '__hash__', '__delattr__', '__setattr__', '__init__', '__reduce__', '__lt__', '__getattribute__', '__subclasshook__', '__dir__', '__eq__', '__new__', '__str__', '__format__', '__getitem__', '__doc__', '__contains__', '__ge__', '__class__', '__ne__', '__gt__', 'count', '__sizeof__'}\n"
     ]
    }
   ],
   "source": [
    "# the & operator creates an intersection of sets\n",
    "print(list_methods_set & tuple_methods_set)"
   ]
  },
  {
   "cell_type": "code",
   "execution_count": 4,
   "metadata": {
    "collapsed": false
   },
   "outputs": [
    {
     "name": "stdout",
     "output_type": "stream",
     "text": [
      "{'remove', 'insert', '__setitem__', '__delitem__', 'copy', '__imul__', 'pop', '__iadd__', 'reverse', 'sort', 'append', '__reversed__', 'extend', 'clear'}\n"
     ]
    }
   ],
   "source": [
    "# The subtract operator removes elements of set b from a\n",
    "print(list_methods_set - tuple_methods_set)"
   ]
  },
  {
   "cell_type": "markdown",
   "metadata": {},
   "source": [
    "### The method differences between lists and tuples\n",
    "As expected it looks like all the methods that are in common between sets and tuples are ones that don't alter the underlying object and the methods that are part of list object only all do some mutation."
   ]
  },
  {
   "cell_type": "markdown",
   "metadata": {},
   "source": [
    "### Problem 33\n",
    "\n",
    "<span style=\"color:green\">Find all the methods that are in tuple and not in list</span>"
   ]
  },
  {
   "cell_type": "code",
   "execution_count": 158,
   "metadata": {
    "collapsed": true
   },
   "outputs": [],
   "source": [
    "# your code here"
   ]
  },
  {
   "cell_type": "markdown",
   "metadata": {},
   "source": [
    "### Problem 34: Advanced.\n",
    "<span style=\"color:green\">Create a function to make a list of all the fibonacci numbers less than 1000 and another function to make a list of all the prime numbers less than a 1000. Use a set to find the numbers that are in both groups</span>"
   ]
  },
  {
   "cell_type": "code",
   "execution_count": 5,
   "metadata": {
    "collapsed": true
   },
   "outputs": [],
   "source": [
    "# your code here"
   ]
  },
  {
   "cell_type": "markdown",
   "metadata": {},
   "source": [
    "### Dictionaries are sets with values\n",
    "Dictionaries are flexible data structures that are unordered mappings from a `key` to a `value`. Every key has exactly one value that is associated with it. Dictionaries have incredibly fast lookups regardless of their size. This is because they are implemented with hash tables under the hood. Dictionary keys must be immutable (hashable objects that always return the same hash value). Values on the other hand can be of any type, even other dictionaries and thus they are great data types for storing very large detailed information. If your are familiar with json then python dictionaries follow nearly the same structure."
   ]
  },
  {
   "cell_type": "code",
   "execution_count": 6,
   "metadata": {
    "collapsed": false
   },
   "outputs": [],
   "source": [
    "# Let's create a python dictionary by hand. There are many ways to create dictionaries\n",
    "# dictionaries, like sets also use the curly brace notation. Sets can be thought of as valueless dictionaries\n",
    "\n",
    "d1 = {'a': 1, 'b': 2, 'c': 3}\n",
    "d2 = dict(a = 1, b = 2, c = 3) # this seems strange but python automatically converts the key to a string here\n",
    "d3 = dict([['a', 1], ['b', 2], ['c', 3]])\n",
    "d4 = {letter : place + 1 for place, letter in enumerate('abc')} # dictionary comprehension using enumerate"
   ]
  },
  {
   "cell_type": "code",
   "execution_count": 7,
   "metadata": {
    "collapsed": false
   },
   "outputs": [
    {
     "data": {
      "text/plain": [
       "({'a': 1, 'b': 2, 'c': 3},\n",
       " {'a': 1, 'b': 2, 'c': 3},\n",
       " {'a': 1, 'b': 2, 'c': 3},\n",
       " {'a': 1, 'b': 2, 'c': 3})"
      ]
     },
     "execution_count": 7,
     "metadata": {},
     "output_type": "execute_result"
    }
   ],
   "source": [
    "# all dictionary declarations yielded the same dictionary data\n",
    "# the keys are the letters and the values are the numbers\n",
    "d1, d2, d3, d4"
   ]
  },
  {
   "cell_type": "code",
   "execution_count": 8,
   "metadata": {
    "collapsed": false
   },
   "outputs": [
    {
     "ename": "TypeError",
     "evalue": "unhashable type: 'list'",
     "output_type": "error",
     "traceback": [
      "\u001b[0;31m---------------------------------------------------------------------------\u001b[0m",
      "\u001b[0;31mTypeError\u001b[0m                                 Traceback (most recent call last)",
      "\u001b[0;32m<ipython-input-8-4dc2096ea4f8>\u001b[0m in \u001b[0;36m<module>\u001b[0;34m()\u001b[0m\n\u001b[1;32m      1\u001b[0m \u001b[0;31m# What happens when we attempt to use a list as a key to a dictionary\u001b[0m\u001b[0;34m\u001b[0m\u001b[0;34m\u001b[0m\u001b[0m\n\u001b[0;32m----> 2\u001b[0;31m \u001b[0md5\u001b[0m \u001b[0;34m=\u001b[0m \u001b[0;34m{\u001b[0m\u001b[0;34m[\u001b[0m\u001b[0;36m1\u001b[0m\u001b[0;34m,\u001b[0m\u001b[0;36m2\u001b[0m\u001b[0;34m,\u001b[0m\u001b[0;36m3\u001b[0m\u001b[0;34m,\u001b[0m\u001b[0;36m4\u001b[0m\u001b[0;34m]\u001b[0m\u001b[0;34m:\u001b[0m\u001b[0;34m'numbers'\u001b[0m\u001b[0;34m}\u001b[0m\u001b[0;34m\u001b[0m\u001b[0m\n\u001b[0m",
      "\u001b[0;31mTypeError\u001b[0m: unhashable type: 'list'"
     ]
    }
   ],
   "source": [
    "# What happens when we attempt to use a list as a key to a dictionary\n",
    "d5 = {[1,2,3,4]:'numbers'}"
   ]
  },
  {
   "cell_type": "code",
   "execution_count": 9,
   "metadata": {
    "collapsed": true
   },
   "outputs": [],
   "source": [
    "# We get an unhashable type, meaning the key is mutable. Hash tables require an immutable object\n",
    "# Let's try tuples since they are immutable\n",
    "d5 = {(1,2,3,4) : 'numbers'}"
   ]
  },
  {
   "cell_type": "code",
   "execution_count": 10,
   "metadata": {
    "collapsed": false
   },
   "outputs": [
    {
     "data": {
      "text/plain": [
       "{(1, 2, 3, 4): 'numbers'}"
      ]
     },
     "execution_count": 10,
     "metadata": {},
     "output_type": "execute_result"
    }
   ],
   "source": [
    "# success!\n",
    "d5"
   ]
  },
  {
   "cell_type": "code",
   "execution_count": 11,
   "metadata": {
    "collapsed": false
   },
   "outputs": [
    {
     "data": {
      "text/plain": [
       "{'Adeline': [65, 22, 10], 'Jane': [45, 98, 77], 'Sally': [87, 76, 65]}"
      ]
     },
     "execution_count": 11,
     "metadata": {},
     "output_type": "execute_result"
    }
   ],
   "source": [
    "# Let's say we are teachers with students that have test score grades\n",
    "# A dictionary is an excellent data structure to keep track of the scores\n",
    "# Let's manually create some data with 3 students that each have 3 test scores\n",
    "students = {'Sally': [87, 76, 65], 'Jane' : [45, 98, 77], 'Adeline' : [65, 22, 10]}\n",
    "students"
   ]
  },
  {
   "cell_type": "code",
   "execution_count": 12,
   "metadata": {
    "collapsed": false
   },
   "outputs": [
    {
     "data": {
      "text/plain": [
       "False"
      ]
     },
     "execution_count": 12,
     "metadata": {},
     "output_type": "execute_result"
    }
   ],
   "source": [
    "# Test whether 'Tom' is a student\n",
    "# use the in operator. Its very fast no matter how large the dictionary becomes\n",
    "# The in operator only looks up keys not values\n",
    "'Tom' in students"
   ]
  },
  {
   "cell_type": "code",
   "execution_count": 13,
   "metadata": {
    "collapsed": false
   },
   "outputs": [
    {
     "data": {
      "text/plain": [
       "[45, 98, 77]"
      ]
     },
     "execution_count": 13,
     "metadata": {},
     "output_type": "execute_result"
    }
   ],
   "source": [
    "# To get values out of dictionary you pass them the key inside of []\n",
    "# Get the test scores for Jane\n",
    "students['Jane']"
   ]
  },
  {
   "cell_type": "code",
   "execution_count": 14,
   "metadata": {
    "collapsed": false
   },
   "outputs": [],
   "source": [
    "# add a new student by assigning a new list of scores, though you can assign anything as the value to this new student\n",
    "students['Brian'] = [87, 76, 35]"
   ]
  },
  {
   "cell_type": "code",
   "execution_count": 15,
   "metadata": {
    "collapsed": false
   },
   "outputs": [
    {
     "data": {
      "text/plain": [
       "dict_keys(['Brian', 'Sally', 'Jane', 'Adeline'])"
      ]
     },
     "execution_count": 15,
     "metadata": {},
     "output_type": "execute_result"
    }
   ],
   "source": [
    "# Get just the keys\n",
    "students.keys()"
   ]
  },
  {
   "cell_type": "markdown",
   "metadata": {},
   "source": [
    "### Attempting to lookup a key that is not in the dictionary\n",
    "A KeyError will be generated if you attempt to return a value for a key not in the dictionary. To gracefully avoid this error the value `get` method can be used. This allows you to return a default value instead of creating an error."
   ]
  },
  {
   "cell_type": "code",
   "execution_count": 16,
   "metadata": {
    "collapsed": false
   },
   "outputs": [
    {
     "ename": "KeyError",
     "evalue": "'Tom'",
     "output_type": "error",
     "traceback": [
      "\u001b[0;31m---------------------------------------------------------------------------\u001b[0m",
      "\u001b[0;31mKeyError\u001b[0m                                  Traceback (most recent call last)",
      "\u001b[0;32m<ipython-input-16-abde901d02a2>\u001b[0m in \u001b[0;36m<module>\u001b[0;34m()\u001b[0m\n\u001b[1;32m      1\u001b[0m \u001b[0;31m# Attempt to get student Tom\u001b[0m\u001b[0;34m\u001b[0m\u001b[0;34m\u001b[0m\u001b[0m\n\u001b[0;32m----> 2\u001b[0;31m \u001b[0mstudents\u001b[0m\u001b[0;34m[\u001b[0m\u001b[0;34m'Tom'\u001b[0m\u001b[0;34m]\u001b[0m\u001b[0;34m\u001b[0m\u001b[0m\n\u001b[0m",
      "\u001b[0;31mKeyError\u001b[0m: 'Tom'"
     ]
    }
   ],
   "source": [
    "# Attempt to get student Tom\n",
    "students['Tom']"
   ]
  },
  {
   "cell_type": "code",
   "execution_count": 17,
   "metadata": {
    "collapsed": false
   },
   "outputs": [
    {
     "data": {
      "text/plain": [
       "-1"
      ]
     },
     "execution_count": 17,
     "metadata": {},
     "output_type": "execute_result"
    }
   ],
   "source": [
    "# use get to return a default value\n",
    "students.get('Tom', -1)"
   ]
  },
  {
   "cell_type": "code",
   "execution_count": 18,
   "metadata": {
    "collapsed": false
   },
   "outputs": [
    {
     "data": {
      "text/plain": [
       "[87, 76, 35]"
      ]
     },
     "execution_count": 18,
     "metadata": {},
     "output_type": "execute_result"
    }
   ],
   "source": [
    "# get returns the normal student value if the key is in the dict\n",
    "students.get('Brian', -1)"
   ]
  },
  {
   "cell_type": "markdown",
   "metadata": {},
   "source": [
    "### Problem 35\n",
    "\n",
    "<span style=\"color:green\">Create a function that accepts two parameters, a dictionary, and a string. If that string is in the dictionary return that value. If not, create a new record in the dictionary with the string as a key and an empty list as its value</span>"
   ]
  },
  {
   "cell_type": "code",
   "execution_count": 19,
   "metadata": {
    "collapsed": false
   },
   "outputs": [],
   "source": [
    "# here is some starter code\n",
    "def add_to_dict(my_dict, my_string):\n",
    "    if my_string in my_dict:\n",
    "        # your code here\n",
    "        pass # delete this line"
   ]
  },
  {
   "cell_type": "markdown",
   "metadata": {},
   "source": [
    "### Iterate through dictionaries\n",
    "One of the most common operations on a dictionary is to loop through it key by key to do some calculation on the values. Since dictionaries are unordered, the order of your iteration is not known ahead of time. If you need an ordered dict (by its keys) lookup the OrderedDict object in the collections module. When you iterate through a dictionary, you are free to define the variables which will hold the key and the value. In the below example, the variable `student` is assigned to the key and `scores` is assigned to the value (a list in this case)"
   ]
  },
  {
   "cell_type": "code",
   "execution_count": 20,
   "metadata": {
    "collapsed": false
   },
   "outputs": [
    {
     "data": {
      "text/plain": [
       "{'Adeline': 65, 'Brian': 87, 'Jane': 98, 'Sally': 87}"
      ]
     },
     "execution_count": 20,
     "metadata": {},
     "output_type": "execute_result"
    }
   ],
   "source": [
    "# To iterate, use the items method which return both key and value of each entry\n",
    "# Let's find the maximum test score for each student\n",
    "{student: max(scores) for student, scores in students.items()}"
   ]
  },
  {
   "cell_type": "markdown",
   "metadata": {},
   "source": [
    "A dictionary comprehension was used above to make a new dictionary that mapped the student name to the maximum score. Dictionary comps are identical to list comps in that they are read beginning at the for statement to the right and then looped back around to the left. The difference is that dictionary comps must return a key : value pair for each iteration"
   ]
  },
  {
   "cell_type": "markdown",
   "metadata": {},
   "source": [
    "### Problem 36\n",
    "\n",
    "<span style=\"color:green\">Create a new dictionary through a dictionary comp that gets the average score for each student</span>"
   ]
  },
  {
   "cell_type": "code",
   "execution_count": 175,
   "metadata": {
    "collapsed": true
   },
   "outputs": [],
   "source": [
    "# your code here"
   ]
  },
  {
   "cell_type": "markdown",
   "metadata": {},
   "source": [
    "### Problem 37\n",
    "\n",
    "<span style=\"color:green\">Create a dictoinary through a dictionary comp that gets the lowest grade for those students that contain an 'e' in their name </span>"
   ]
  },
  {
   "cell_type": "code",
   "execution_count": 21,
   "metadata": {
    "collapsed": true
   },
   "outputs": [],
   "source": [
    "# your code here"
   ]
  },
  {
   "cell_type": "markdown",
   "metadata": {},
   "source": [
    "### What if the values change in the dictionary\n",
    "Lets say that a student gets a new test grade. We can just append the test score to the values"
   ]
  },
  {
   "cell_type": "code",
   "execution_count": 22,
   "metadata": {
    "collapsed": false
   },
   "outputs": [
    {
     "data": {
      "text/plain": [
       "{'Adeline': [65, 22, 10, 76],\n",
       " 'Brian': [87, 76, 35],\n",
       " 'Jane': [45, 98, 77],\n",
       " 'Sally': [87, 76, 65]}"
      ]
     },
     "execution_count": 22,
     "metadata": {},
     "output_type": "execute_result"
    }
   ],
   "source": [
    "# append a score to a test\n",
    "students['Adeline'].append(76)\n",
    "students"
   ]
  },
  {
   "cell_type": "markdown",
   "metadata": {},
   "source": [
    "### Advanced: Problem 38\n",
    "\n",
    "<span style=\"color:green\">Iterate through each student and drop their lowest test grade. Replace it with 100.</span>"
   ]
  },
  {
   "cell_type": "code",
   "execution_count": 23,
   "metadata": {
    "collapsed": true
   },
   "outputs": [],
   "source": [
    "# your code here"
   ]
  },
  {
   "cell_type": "markdown",
   "metadata": {},
   "source": [
    "# Congrats! You've reached the end\n",
    "This is just a small sampling of what python is capable of doing. Only the most important aspects of the language have been covered but if you have internalized this material you will be able to do very well during the actual course."
   ]
  },
  {
   "cell_type": "markdown",
   "metadata": {},
   "source": [
    "# Buts its not the end!\n",
    "The next notebook is a brief introduction to pandas, the main tool that we will be learning during the course."
   ]
  }
 ],
 "metadata": {
  "kernelspec": {
   "display_name": "Python 3",
   "language": "python",
   "name": "python3"
  },
  "language_info": {
   "codemirror_mode": {
    "name": "ipython",
    "version": 3
   },
   "file_extension": ".py",
   "mimetype": "text/x-python",
   "name": "python",
   "nbconvert_exporter": "python",
   "pygments_lexer": "ipython3",
   "version": "3.5.1"
  }
 },
 "nbformat": 4,
 "nbformat_minor": 0
}
