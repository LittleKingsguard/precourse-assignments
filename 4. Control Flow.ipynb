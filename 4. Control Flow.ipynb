{
 "cells": [
  {
   "cell_type": "markdown",
   "metadata": {},
   "source": [
    "### Indenting in Python\n",
    "Python's syntax is so simple that it relies upon indentation (and not curly braces) beneath code blocks to mark their beginning and end. `if, for, while, def, with` are all statements that have indentend code blocks underneath them. A block is exited when the indentation for the current line returns to where it was before the indentation began. [PEP8](https://www.python.org/dev/peps/pep-0008/) a popular python style guide suggests 4 spaces (not tabs) for indentation. The notebook defaults to 4 spaces as well and takes care of it for you when you begin a code block that requires indentation.\n",
    "\n",
    "### Control flow\n",
    "`if` statements use simple syntax with no parentheses or curly braces. Just a colon at the end of the statement and an indentation for all the lines below the `if` statement that get triggered when the condition is true. You can have any number of conditions in your conditional and any number of `elif` (statements which must follow an if which get triggered only if the immediately preceeding if statement is false) statements"
   ]
  },
  {
   "cell_type": "code",
   "execution_count": 1,
   "metadata": {
    "collapsed": false
   },
   "outputs": [
    {
     "name": "stdout",
     "output_type": "stream",
     "text": [
      "There are more than 4 a's in your string\n"
     ]
    }
   ],
   "source": [
    "test_string = 'asdfklasdflasjdfasdfasdf'\n",
    "if test_string.count('a') > 4:\n",
    "    print(\"There are more than 4 a's in your string\")\n",
    "elif test_string.index('k') > 10:\n",
    "    print(\"The first k occurs after the 11th element\")\n",
    "else:\n",
    "    print(\"My super intelligent responses did not find any info on your string. Please change it\")"
   ]
  },
  {
   "cell_type": "markdown",
   "metadata": {},
   "source": [
    "# Booleans\n",
    "All `if` statements evaluate to `True` or `False`. You can also combine the keywords `and`, `or`, `not` to make more complex logical boolean expresions. `not` simply reverse the truthiness of a statement"
   ]
  },
  {
   "cell_type": "code",
   "execution_count": 2,
   "metadata": {
    "collapsed": false
   },
   "outputs": [
    {
     "data": {
      "text/plain": [
       "True"
      ]
     },
     "execution_count": 2,
     "metadata": {},
     "output_type": "execute_result"
    }
   ],
   "source": [
    "(10 > 5 and 6 > 13) or not (5 > 100) "
   ]
  },
  {
   "cell_type": "markdown",
   "metadata": {},
   "source": [
    "### Iteration\n",
    "Yet another benefit of python is the ease of element by element iteration of a sequence. Strings, lists, sets, dictionaries, tuples and many other sequence types can be iterated over. "
   ]
  },
  {
   "cell_type": "code",
   "execution_count": 3,
   "metadata": {
    "collapsed": false
   },
   "outputs": [
    {
     "name": "stdout",
     "output_type": "stream",
     "text": [
      "97\n",
      "98\n",
      "99\n",
      "100\n",
      "101\n",
      "102\n",
      "103\n",
      "104\n",
      "105\n",
      "106\n",
      "107\n"
     ]
    }
   ],
   "source": [
    "# a simple iteration over a string. For each character (which is assigned to variable s) in my_string \n",
    "# its numerical value (ord) will be printed\n",
    "my_string = 'abcdefghijk'\n",
    "for s in my_string:\n",
    "    print(ord(s))"
   ]
  },
  {
   "cell_type": "markdown",
   "metadata": {},
   "source": [
    "### Iteration by hand?\n",
    "If you enjoy handcrafted iteration, python provides a way for you to do this. All iterators implicity call the next method until StopIteration is thrown."
   ]
  },
  {
   "cell_type": "code",
   "execution_count": 4,
   "metadata": {
    "collapsed": true
   },
   "outputs": [],
   "source": [
    "# first declare an iterator with the iter method\n",
    "my_string_iter = iter(my_string)"
   ]
  },
  {
   "cell_type": "code",
   "execution_count": 5,
   "metadata": {
    "collapsed": false
   },
   "outputs": [
    {
     "data": {
      "text/plain": [
       "'a'"
      ]
     },
     "execution_count": 5,
     "metadata": {},
     "output_type": "execute_result"
    }
   ],
   "source": [
    "# then let the hand crafted iteration begin! This is what a for loop is doing internally\n",
    "next(my_string_iter)"
   ]
  },
  {
   "cell_type": "code",
   "execution_count": 6,
   "metadata": {
    "collapsed": false
   },
   "outputs": [
    {
     "data": {
      "text/plain": [
       "'b'"
      ]
     },
     "execution_count": 6,
     "metadata": {},
     "output_type": "execute_result"
    }
   ],
   "source": [
    "next(my_string_iter)"
   ]
  },
  {
   "cell_type": "code",
   "execution_count": 7,
   "metadata": {
    "collapsed": false
   },
   "outputs": [
    {
     "data": {
      "text/plain": [
       "'c'"
      ]
     },
     "execution_count": 7,
     "metadata": {},
     "output_type": "execute_result"
    }
   ],
   "source": [
    "next(my_string_iter)"
   ]
  },
  {
   "cell_type": "markdown",
   "metadata": {},
   "source": [
    "### The range builtin function\n",
    "The builtin range function takes start, stop, step arguments to create a sequence of numbers in the same manner as sequence slicing as covered above. The range function in python 3 is actually a generator whereas in python 2 it actually created the whole list of numbers given to it which was a problem when given a very large number (python2 actually had the xrange function which is equivalent to the range function of python 3. xrange has been removed from python 3). A generator only holds the next item of the sequence in memory (and not the entire sequence) so is much more memory efficient. If you absolutely need a list from the range function simply wrap the range inside the list function: `list(range(10))`"
   ]
  },
  {
   "cell_type": "code",
   "execution_count": 8,
   "metadata": {
    "collapsed": false
   },
   "outputs": [
    {
     "name": "stdout",
     "output_type": "stream",
     "text": [
      "0\n",
      "3\n",
      "6\n",
      "9\n",
      "12\n",
      "15\n",
      "18\n"
     ]
    }
   ],
   "source": [
    "# typical use of looping through a range. Also notice how one line for loops can be created. \n",
    "# Not ideal practice but it works\n",
    "for num in range(0, 20, 3): print(num)"
   ]
  },
  {
   "cell_type": "markdown",
   "metadata": {},
   "source": [
    "### Problem 17\n",
    "<span style=\"color:green\">Use a for loop to iterate over the first 10 positive integers, printing out their squared value</span>"
   ]
  },
  {
   "cell_type": "code",
   "execution_count": 9,
   "metadata": {
    "collapsed": true
   },
   "outputs": [],
   "source": [
    "#your code here"
   ]
  },
  {
   "cell_type": "markdown",
   "metadata": {},
   "source": [
    "### Problem 18\n",
    "<span style=\"color:green\">Use a for loop to iterate over the first 10 positive integers, printing out their squared value only if the value is greater than 50</span>"
   ]
  },
  {
   "cell_type": "code",
   "execution_count": 10,
   "metadata": {
    "collapsed": true
   },
   "outputs": [],
   "source": [
    "#your code here"
   ]
  },
  {
   "cell_type": "markdown",
   "metadata": {},
   "source": [
    "### Problem 19\n",
    "<span style=\"color:green\">Use a for loop to iterate over every sixth integer of the first 1000, appending their squared value to a list. Do not print this result out.</span>"
   ]
  },
  {
   "cell_type": "code",
   "execution_count": 11,
   "metadata": {
    "collapsed": true
   },
   "outputs": [],
   "source": [
    "squared_list = []\n",
    "# your code here"
   ]
  },
  {
   "cell_type": "markdown",
   "metadata": {},
   "source": [
    "### List comprehensions\n",
    "The last problem could have been handled by the very powerful list comprehension. A list comprehension is a single list iterating statement that stores results into a list and happens to read similarly to standard mathematical notation"
   ]
  },
  {
   "cell_type": "code",
   "execution_count": 12,
   "metadata": {
    "collapsed": false
   },
   "outputs": [],
   "source": [
    "# The following list comprehension loops through nubmers 0 - 9 and stores the square of that number in a list\n",
    "squared_nums = [x ** 2 for x in range(10)]"
   ]
  },
  {
   "cell_type": "code",
   "execution_count": 13,
   "metadata": {
    "collapsed": false
   },
   "outputs": [
    {
     "data": {
      "text/plain": [
       "[0, 1, 4, 9, 16, 25, 36, 49, 64, 81]"
      ]
     },
     "execution_count": 13,
     "metadata": {},
     "output_type": "execute_result"
    }
   ],
   "source": [
    "# The above is equivalent to this\n",
    "squared_nums = []\n",
    "for x in range(10):\n",
    "    squared_nums.append(x ** 2)\n",
    "    \n",
    "squared_nums"
   ]
  },
  {
   "cell_type": "markdown",
   "metadata": {},
   "source": [
    "### Reading list comprehensions\n",
    "list comprehensions should not be read left to right (at least not when first encountered). Always start with the for loop first and read all the way to the right bracket before looping around to the left bracket and reading until you've reached the for loop again."
   ]
  },
  {
   "cell_type": "code",
   "execution_count": 14,
   "metadata": {
    "collapsed": false
   },
   "outputs": [],
   "source": [
    "### Using a conditional in a list comprehension\n",
    "squared_nums = [x ** 2 if x % 2 == 0 else x ** 3 for x in range(100) if x > 30 and x < 50]"
   ]
  },
  {
   "cell_type": "code",
   "execution_count": 15,
   "metadata": {
    "collapsed": false
   },
   "outputs": [
    {
     "name": "stdout",
     "output_type": "stream",
     "text": [
      "[29791, 1024, 35937, 1156, 42875, 1296, 50653, 1444, 59319, 1600, 68921, 1764, 79507, 1936, 91125, 2116, 103823, 2304, 117649]\n"
     ]
    }
   ],
   "source": [
    "# The above is equivalent to this\n",
    "squared_nums = []\n",
    "for x in range(100):\n",
    "    if x > 30 and x < 50:\n",
    "        if x % 2 == 0:\n",
    "            squared_nums.append(x ** 2)\n",
    "        else:\n",
    "            squared_nums.append(x ** 3)\n",
    "    \n",
    "print(squared_nums)"
   ]
  },
  {
   "cell_type": "markdown",
   "metadata": {},
   "source": [
    "### Reading conditionals in list comps\n",
    "Again, list comps are read beginning at the for the loop. Here all the values from 0 to 99 are passed tot the conditional x > 30 and x < 50. Only those that pass the conditional make it to the left hand side where they are squared if they are even and cubed if they are odd."
   ]
  },
  {
   "cell_type": "markdown",
   "metadata": {},
   "source": [
    "### Conditional assignments in one line\n",
    "In the above list comp, the statement to the left of the for loop might have been confusing. [Check here](https://en.wikipedia.org/wiki/%3F:#Python) to learn more about the ternary operator in python which assigns the variable to the first value if the statement is true otherwise assigns the variable to the last operator"
   ]
  },
  {
   "cell_type": "code",
   "execution_count": 16,
   "metadata": {
    "collapsed": false
   },
   "outputs": [
    {
     "data": {
      "text/plain": [
       "'low'"
      ]
     },
     "execution_count": 16,
     "metadata": {},
     "output_type": "execute_result"
    }
   ],
   "source": [
    "# Simple ternary operator\n",
    "x = 5\n",
    "variable_type = 'low' if x < 10 else 'high'\n",
    "variable_type"
   ]
  },
  {
   "cell_type": "markdown",
   "metadata": {},
   "source": [
    "### Problem 20\n",
    "\n",
    "<span style=\"color:green\">Write a list comprehension that loops through all numbers between 1 and 100 and squares all those that end in 3 or 7 (hint: use modulus operator)</span>"
   ]
  },
  {
   "cell_type": "code",
   "execution_count": 17,
   "metadata": {
    "collapsed": true
   },
   "outputs": [],
   "source": [
    "# your code here"
   ]
  },
  {
   "cell_type": "markdown",
   "metadata": {},
   "source": [
    "### Advanced: Problem 21\n",
    "\n",
    "<span style=\"color:green\">Write a list comprehension that loops through all the characters of the word 'abrACaDabra' and for only the lowercase letters, returns 'vowel' if the letter is a vowel and 'consonant' otherwise </span>"
   ]
  },
  {
   "cell_type": "code",
   "execution_count": 18,
   "metadata": {
    "collapsed": true
   },
   "outputs": [],
   "source": [
    "word = 'abrACaDabra'\n",
    "# your code here"
   ]
  },
  {
   "cell_type": "markdown",
   "metadata": {},
   "source": [
    "### Nested for loops inside list comps\n",
    "Just like you can nest for loops, you can nest as many for loops as you would like inside list comps"
   ]
  },
  {
   "cell_type": "code",
   "execution_count": 19,
   "metadata": {
    "collapsed": true
   },
   "outputs": [],
   "source": [
    "create_words = [x + y + z for x in 'bmr' for y in 'aei' for z in 'dt']"
   ]
  },
  {
   "cell_type": "code",
   "execution_count": 20,
   "metadata": {
    "collapsed": false
   },
   "outputs": [
    {
     "name": "stdout",
     "output_type": "stream",
     "text": [
      "['bad', 'bat', 'bed', 'bet', 'bid', 'bit', 'mad', 'mat', 'med', 'met', 'mid', 'mit', 'rad', 'rat', 'red', 'ret', 'rid', 'rit']\n"
     ]
    }
   ],
   "source": [
    "# the above is equivalent to\n",
    "create_words = []\n",
    "for x in 'bmr':\n",
    "    for y in 'aei':\n",
    "        for z in 'dt':\n",
    "            create_words.append(x + y + z)\n",
    "print(create_words)"
   ]
  },
  {
   "cell_type": "markdown",
   "metadata": {},
   "source": [
    "### Problem 22\n",
    "\n",
    "<span style=\"color:green\">Write a list comprehension that uses nested for loops to get the total price of carpeting for all possible house size combinations where there is at least 1000 square feet of house. Store values in total_price list</span>"
   ]
  },
  {
   "cell_type": "code",
   "execution_count": 21,
   "metadata": {
    "collapsed": true
   },
   "outputs": [],
   "source": [
    "height = range(10, 30, 5)\n",
    "width = range(2,40,2)\n",
    "price_per_square_foot = [1, 1.75, 2.5, 4.88]\n",
    "total_price = []\n",
    "# your code here"
   ]
  },
  {
   "cell_type": "markdown",
   "metadata": {},
   "source": [
    "### Advanced: enumerate function\n",
    "enumerate is a nice function that allows you to grab the index of the iteration in a loop without using the dreaded `range(len(list_name))`"
   ]
  },
  {
   "cell_type": "code",
   "execution_count": 22,
   "metadata": {
    "collapsed": false
   },
   "outputs": [
    {
     "name": "stdout",
     "output_type": "stream",
     "text": [
      "0 a\n",
      "1 b\n",
      "2 c\n",
      "3 d\n",
      "4 e\n",
      "5 f\n"
     ]
    }
   ],
   "source": [
    "letters = list('abcdef')\n",
    "for i, letter in enumerate(letters):\n",
    "    print(i, letter)"
   ]
  },
  {
   "cell_type": "code",
   "execution_count": 23,
   "metadata": {
    "collapsed": false
   },
   "outputs": [
    {
     "name": "stdout",
     "output_type": "stream",
     "text": [
      "0 a\n",
      "1 b\n",
      "2 c\n",
      "3 d\n",
      "4 e\n",
      "5 f\n"
     ]
    }
   ],
   "source": [
    "# which is much more elegant than\n",
    "letters = list('abcdef')\n",
    "for i in range(len(letters)):\n",
    "    print(i, letters[i])"
   ]
  },
  {
   "cell_type": "markdown",
   "metadata": {},
   "source": [
    "### Problem 23\n",
    "\n",
    "<span style=\"color:green\">Write a for list that uses enumerate to iterate over the total_price list in problem 22 and prints out the message, \"House number i costs x amount of dollars\". Use the format method of str object to interpolate the variables in your message </span>"
   ]
  },
  {
   "cell_type": "code",
   "execution_count": 24,
   "metadata": {
    "collapsed": true
   },
   "outputs": [],
   "source": [
    "# your code here"
   ]
  },
  {
   "cell_type": "markdown",
   "metadata": {},
   "source": [
    "### Problem 24 Advanced\n",
    "\n",
    "<span style=\"color:green\">If you are an experienced programmer you will be familiar with while loops. A while loop continually executes as long as a certain condition is true. For this problem I want you to continuously generate random numbers between 0 and 1 using the random standard library until a number greater than .99999 is produced. Use the seed method to set a seed of 1234 before doing this. return the number of iterations it takes before this event happens </span>"
   ]
  },
  {
   "cell_type": "code",
   "execution_count": 25,
   "metadata": {
    "collapsed": true
   },
   "outputs": [],
   "source": [
    "# your code here"
   ]
  }
 ],
 "metadata": {
  "kernelspec": {
   "display_name": "Python 3",
   "language": "python",
   "name": "python3"
  },
  "language_info": {
   "codemirror_mode": {
    "name": "ipython",
    "version": 3
   },
   "file_extension": ".py",
   "mimetype": "text/x-python",
   "name": "python",
   "nbconvert_exporter": "python",
   "pygments_lexer": "ipython3",
   "version": "3.5.1"
  }
 },
 "nbformat": 4,
 "nbformat_minor": 0
}
